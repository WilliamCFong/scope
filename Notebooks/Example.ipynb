{
 "cells": [
  {
   "cell_type": "code",
   "execution_count": 1,
   "metadata": {
    "collapsed": false
   },
   "outputs": [],
   "source": [
    "import matplotlib.pyplot as pl\n",
    "import numpy as np\n",
    "import skope\n",
    "%matplotlib inline"
   ]
  },
  {
   "cell_type": "markdown",
   "metadata": {},
   "source": [
    "Initialize star object by calling skope.Target( ). By default, Target( ) uses the motion vectors of the target EPIC ID: 205998445, a fairly standard C3 *K2* target. This can be changed with the $\\texttt{ID}$ parameter.  \n",
    "\n",
    "The GenerateLightCurve( ) function takes a stellar magnitude and returns a full light curve ($\\texttt{fpix}$), a 1-dimensional flux light curve ($\\texttt{flux}$), and a light curve containing the error in each pixel ($\\texttt{ferr}$)."
   ]
  },
  {
   "cell_type": "code",
   "execution_count": 2,
   "metadata": {
    "collapsed": false
   },
   "outputs": [
    {
     "name": "stderr",
     "output_type": "stream",
     "text": [
      "100%|██████████| 10/10 [00:00<00:00, 23.64it/s]\n"
     ]
    }
   ],
   "source": [
    "star = skope.Target()\n",
    "fpix, flux, ferr = star.GenerateLightCurve(12.,ncadences=10)"
   ]
  },
  {
   "cell_type": "code",
   "execution_count": null,
   "metadata": {
    "collapsed": false
   },
   "outputs": [],
   "source": [
    "fig = pl.figure(figsize=(15,4));\n",
    "pl.plot(star.t,flux,'k.', alpha=.7);\n",
    "pl.title('Light Curve (No Transits)')\n",
    "pl.xlabel('Time (days)');\n",
    "pl.ylabel('Flux (counts)');"
   ]
  },
  {
   "cell_type": "markdown",
   "metadata": {},
   "source": [
    "Now, add a transit to the light curve with the AddTransit( ) function. AddTransit( ) takes in a full light curve and returns the light curve with added transits and the 1-dimensional flux light curve with added transits."
   ]
  },
  {
   "cell_type": "code",
   "execution_count": null,
   "metadata": {
    "collapsed": false
   },
   "outputs": [],
   "source": [
    "fpix_tr, flux_tr = star.AddTransit(fpix)"
   ]
  },
  {
   "cell_type": "code",
   "execution_count": null,
   "metadata": {
    "collapsed": false
   },
   "outputs": [],
   "source": [
    "fig = pl.figure(figsize=(15,4));\n",
    "pl.plot(star.t,star.trn*np.mean(flux),'r');\n",
    "pl.plot(star.t,flux_tr,'k.',alpha=.7);\n",
    "pl.title('Light Curve (with Transits)');\n",
    "pl.xlabel('Time (days)');\n",
    "pl.ylabel('Flux (counts)');"
   ]
  },
  {
   "cell_type": "code",
   "execution_count": null,
   "metadata": {
    "collapsed": true
   },
   "outputs": [],
   "source": [
    "detrend, rawflux = star.Detrend(fpix_tr)"
   ]
  },
  {
   "cell_type": "code",
   "execution_count": null,
   "metadata": {
    "collapsed": false
   },
   "outputs": [],
   "source": [
    "fig = pl.figure(figsize=(15,4))\n",
    "pl.plot(star.t, rawflux, 'r.', alpha=0.5);\n",
    "pl.plot(star.t, detrend, 'k.');"
   ]
  },
  {
   "cell_type": "markdown",
   "metadata": {},
   "source": [
    "To create a light curve with increased spacecraft roll, the $\\texttt{roll}$ parameter (default to 1.0) can be changed in the GenerateLightCurve( ) function. Let's generate a light curve with 5.0x current spacecraft motion. To avoid flux loss off the edge of the aperture, the $\\texttt{apsize}$ parameter has been increased to 9 (from default 7)."
   ]
  },
  {
   "cell_type": "code",
   "execution_count": null,
   "metadata": {
    "collapsed": false
   },
   "outputs": [],
   "source": [
    "star = skope.Target()\n",
    "highroll_fpix, highroll_flux, highroll_ferr = star.GenerateLightCurve(12., roll=5., apsize=9)"
   ]
  },
  {
   "cell_type": "code",
   "execution_count": null,
   "metadata": {
    "collapsed": false
   },
   "outputs": [],
   "source": [
    "fig = pl.figure(figsize=(15,4));\n",
    "pl.plot(star.t,highroll_flux,'k.', alpha=.7);\n",
    "pl.title('High Roll Light Curve (No Transits)')\n",
    "pl.xlabel('Time (days)');\n",
    "pl.ylabel('Flux (counts)');"
   ]
  },
  {
   "cell_type": "code",
   "execution_count": null,
   "metadata": {
    "collapsed": true
   },
   "outputs": [],
   "source": [
    "hr_fpix_tr, hr_flux_tr = star.AddTransit(highroll_fpix)"
   ]
  },
  {
   "cell_type": "code",
   "execution_count": null,
   "metadata": {
    "collapsed": false
   },
   "outputs": [],
   "source": [
    "fig = pl.figure(figsize=(15,4));\n",
    "pl.plot(star.t,star.trn*np.mean(highroll_flux),'r');\n",
    "pl.plot(star.t,hr_flux_tr,'k.',alpha=.7);\n",
    "pl.title('High Roll Light Curve (with Transits)');\n",
    "pl.xlabel('Time (days)');\n",
    "pl.ylabel('Flux (counts)');"
   ]
  },
  {
   "cell_type": "code",
   "execution_count": null,
   "metadata": {
    "collapsed": false
   },
   "outputs": [],
   "source": [
    "detflux, rawflux = star.Detrend(hr_fpix_tr)"
   ]
  },
  {
   "cell_type": "code",
   "execution_count": null,
   "metadata": {
    "collapsed": false
   },
   "outputs": [],
   "source": [
    "fig = pl.figure(figsize=(15,4));\n",
    "pl.plot(star.t,star.trn*np.mean(detflux),'r');\n",
    "pl.plot(star.t,detflux,'k.');\n",
    "pl.title('High Roll Light Curve (with Transits)');\n",
    "pl.xlabel('Time (days)');\n",
    "pl.ylabel('Flux (counts)');"
   ]
  },
  {
   "cell_type": "code",
   "execution_count": 3,
   "metadata": {
    "collapsed": false
   },
   "outputs": [
    {
     "name": "stdout",
     "output_type": "stream",
     "text": [
      "> //anaconda/lib/python3.5/site-packages/skope-0.0.1-py3.5.egg/skope/simulateK2target.py(202)DisplayDetector()\n",
      "-> intra = np.tile(pixel_sens, (self.apsize, self.apsize))\n",
      "(Pdb) c\n",
      "> //anaconda/lib/python3.5/site-packages/skope-0.0.1-py3.5.egg/skope/simulateK2target.py(206)DisplayDetector()\n",
      "-> for i in range(self.apsize):\n",
      "(Pdb) c\n"
     ]
    }
   ],
   "source": [
    "det = star.DisplayDetector()"
   ]
  },
  {
   "cell_type": "code",
   "execution_count": 6,
   "metadata": {
    "collapsed": false
   },
   "outputs": [
    {
     "data": {
      "text/plain": [
       "<matplotlib.image.AxesImage at 0x11f22d7b8>"
      ]
     },
     "execution_count": 6,
     "metadata": {},
     "output_type": "execute_result"
    },
    {
     "data": {
      "image/png": "[encoded data removed]",
      "text/plain": [
       "<matplotlib.figure.Figure at 0x11edf96a0>"
      ]
     },
     "metadata": {},
     "output_type": "display_data"
    }
   ],
   "source": [
    "pl.imshow(det,cmap='gray')"
   ]
  },
  {
   "cell_type": "code",
   "execution_count": null,
   "metadata": {
    "collapsed": true
   },
   "outputs": [],
   "source": []
  }
 ],
 "metadata": {
  "kernelspec": {
   "display_name": "Python 3",
   "language": "python",
   "name": "python3"
  },
  "language_info": {
   "codemirror_mode": {
    "name": "ipython",
    "version": 3
   },
   "file_extension": ".py",
   "mimetype": "text/x-python",
   "name": "python",
   "nbconvert_exporter": "python",
   "pygments_lexer": "ipython3",
   "version": "3.5.3"
  }
 },
 "nbformat": 4,
 "nbformat_minor": 0
}
