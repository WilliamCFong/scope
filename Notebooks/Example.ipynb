{
 "cells": [
  {
   "cell_type": "code",
   "execution_count": 1,
   "metadata": {
    "collapsed": false
   },
   "outputs": [],
   "source": [
    "import matplotlib.pyplot as pl\n",
    "import numpy as np\n",
    "import skope\n",
    "%matplotlib inline"
   ]
  },
  {
   "cell_type": "markdown",
   "metadata": {},
   "source": [
    "# Stellar Light Curves"
   ]
  },
  {
   "cell_type": "markdown",
   "metadata": {},
   "source": [
    "Star objects can be initialized by calling <code>skope.Target()</code>. By default, <code>Target()</code> uses the motion vectors of the target <code>EPIC ID: 205998445</code>, a fairly standard C3 *K2* target. This can be changed with the <code>ID</code> parameter.  \n",
    "\n",
    "The <code>GenerateLightCurve()</code> function takes a stellar magnitude and returns a full light curve (<code>fpix</code>), a 1-dimensional flux light curve (<code>flux</code>), and a light curve containing the error in each pixel (<code>ferr</code>)."
   ]
  },
  {
   "cell_type": "code",
   "execution_count": 2,
   "metadata": {
    "collapsed": false
   },
   "outputs": [
    {
     "name": "stderr",
     "output_type": "stream",
     "text": [
      "100%|██████████| 100/100 [00:06<00:00, 16.56it/s]\n"
     ]
    }
   ],
   "source": [
    "star = skope.Target()\n",
    "fpix, flux, ferr = star.GenerateLightCurve(12., ncadences = 100)"
   ]
  },
  {
   "cell_type": "code",
   "execution_count": 3,
   "metadata": {
    "collapsed": false
   },
   "outputs": [
    {
     "data": {
      "image/png": "[encoded data removed]",
      "text/plain": [
       "<matplotlib.figure.Figure at 0x1151a1160>"
      ]
     },
     "metadata": {},
     "output_type": "display_data"
    }
   ],
   "source": [
    "fig = pl.figure(figsize=(15,4));\n",
    "pl.plot(star.t, flux,'k.', alpha=.7);\n",
    "pl.title('Light Curve (no transits)');\n",
    "pl.xlabel('Time (days)');\n",
    "pl.ylabel('Flux (counts)');"
   ]
  },
  {
   "cell_type": "markdown",
   "metadata": {},
   "source": [
    "# Transits"
   ]
  },
  {
   "cell_type": "markdown",
   "metadata": {},
   "source": [
    "Now, add a transit to the light curve with the <code>AddTransit()</code> function. <code>AddTransit()</code> takes in a full light curve and returns the light curve with added transits and the 1-dimensional flux light curve with added transits.  "
   ]
  },
  {
   "cell_type": "code",
   "execution_count": null,
   "metadata": {
    "collapsed": false
   },
   "outputs": [],
   "source": [
    "fpix_tr, flux_tr = star.AddTransit(fpix)"
   ]
  },
  {
   "cell_type": "code",
   "execution_count": null,
   "metadata": {
    "collapsed": false
   },
   "outputs": [],
   "source": [
    "fig = pl.figure(figsize=(15,4));\n",
    "pl.plot(star.t, star.trn*np.mean(flux),'r', alpha=.5);\n",
    "pl.plot(star.t,flux_tr, 'k.', alpha=.7);\n",
    "pl.title('Light Curve (with transits)');\n",
    "pl.xlabel('Time (days)');\n",
    "pl.ylabel('Flux (counts)');"
   ]
  },
  {
   "cell_type": "markdown",
   "metadata": {},
   "source": [
    "The <code>Detrend()</code> function can be called with the light curve to remove the instrumental noise with second order PLD. <code>Detrend()</code> returns both the detrended and raw flux."
   ]
  },
  {
   "cell_type": "code",
   "execution_count": null,
   "metadata": {
    "collapsed": true
   },
   "outputs": [],
   "source": [
    "detrend, rawflux = star.Detrend(fpix_tr)"
   ]
  },
  {
   "cell_type": "code",
   "execution_count": null,
   "metadata": {
    "collapsed": false
   },
   "outputs": [],
   "source": [
    "fig = pl.figure(figsize=(15,4))\n",
    "pl.plot(star.t, rawflux, 'r.', alpha=.3);\n",
    "pl.plot(star.t, detrend, 'k.');\n",
    "pl.xlabel('Time (days)');\n",
    "pl.ylabel('Flux (counts)');\n",
    "pl.title('De-Trended Light Curve (with transits)');"
   ]
  },
  {
   "cell_type": "markdown",
   "metadata": {},
   "source": [
    "# Variability"
   ]
  },
  {
   "cell_type": "markdown",
   "metadata": {},
   "source": [
    "Stellar variability can be injected into a light curve in a similar way to injecting transits. To add simusoidal variability, call the <code>star.AddVariability()</code> function on a <code>fpix</code> light curve."
   ]
  },
  {
   "cell_type": "code",
   "execution_count": null,
   "metadata": {
    "collapsed": true
   },
   "outputs": [],
   "source": [
    "fpix_v, flux_v = star.AddVariability(fpix)"
   ]
  },
  {
   "cell_type": "code",
   "execution_count": null,
   "metadata": {
    "collapsed": false
   },
   "outputs": [],
   "source": [
    "fig = pl.figure(figsize=(15,4));\n",
    "pl.plot(star.t, flux_v, 'k.', alpha=.7);\n",
    "pl.title('Variable Light Curve (no transits)');\n",
    "pl.xlabel('Time (days)');\n",
    "pl.ylabel('Flux (counts)');"
   ]
  },
  {
   "cell_type": "code",
   "execution_count": null,
   "metadata": {
    "collapsed": false
   },
   "outputs": [],
   "source": [
    "detrend_v, rawflux_v = star.Detrend(fpix_v)"
   ]
  },
  {
   "cell_type": "code",
   "execution_count": null,
   "metadata": {
    "collapsed": false
   },
   "outputs": [],
   "source": [
    "fig = pl.figure(figsize=(15,4));\n",
    "pl.plot(star.t, rawflux_v, 'r.', alpha=.3);\n",
    "pl.plot(star.t, detrend_v, 'k.');\n",
    "pl.title('De-Trended Variable Light Curve (no transits)');\n",
    "pl.xlabel('Time (days)');\n",
    "pl.ylabel('Flux (counts)');"
   ]
  },
  {
   "cell_type": "markdown",
   "metadata": {},
   "source": [
    "# High Roll"
   ]
  },
  {
   "cell_type": "markdown",
   "metadata": {},
   "source": [
    "To create a light curve with increased spacecraft roll, the <code>roll</code> parameter (default to 1.0) can be changed in the <code>GenerateLightCurve()</code> function. Let's generate a light curve with 5.0x current spacecraft motion. To avoid flux loss off the edge of the aperture, the <code>apsize</code> parameter has been increased to 9 (from default 7)."
   ]
  },
  {
   "cell_type": "code",
   "execution_count": null,
   "metadata": {
    "collapsed": false
   },
   "outputs": [],
   "source": [
    "highroll_fpix, highroll_flux, highroll_ferr = star.GenerateLightCurve(12., roll=5., apsize=9)"
   ]
  },
  {
   "cell_type": "code",
   "execution_count": null,
   "metadata": {
    "collapsed": false
   },
   "outputs": [],
   "source": [
    "fig = pl.figure(figsize=(15,4));\n",
    "pl.plot(star.t, highroll_flux, 'k.', alpha=.7);\n",
    "pl.title('High Roll Light Curve (no transits)');\n",
    "pl.xlabel('Time (days)');\n",
    "pl.ylabel('Flux (counts)');"
   ]
  },
  {
   "cell_type": "code",
   "execution_count": null,
   "metadata": {
    "collapsed": true
   },
   "outputs": [],
   "source": [
    "hr_fpix_tr, hr_flux_tr = star.AddTransit(highroll_fpix)"
   ]
  },
  {
   "cell_type": "code",
   "execution_count": null,
   "metadata": {
    "collapsed": false
   },
   "outputs": [],
   "source": [
    "fig = pl.figure(figsize=(15,4));\n",
    "pl.plot(star.t, star.trn*np.mean(highroll_flux), 'r', alpha=0.5);\n",
    "pl.plot(star.t, hr_flux_tr, 'k.', alpha=.7);\n",
    "pl.title('High Roll Light Curve (with transits)');\n",
    "pl.xlabel('Time (days)');\n",
    "pl.ylabel('Flux (counts)');"
   ]
  },
  {
   "cell_type": "code",
   "execution_count": null,
   "metadata": {
    "collapsed": false
   },
   "outputs": [],
   "source": [
    "detrend_hr, rawflux_hr = star.Detrend(hr_fpix_tr)"
   ]
  },
  {
   "cell_type": "code",
   "execution_count": null,
   "metadata": {
    "collapsed": false
   },
   "outputs": [],
   "source": [
    "fig = pl.figure(figsize=(15,4));\n",
    "pl.plot(star.t, rawflux_hr, 'r.', alpha=.3);\n",
    "pl.plot(star.t, detrend_hr, 'k.');\n",
    "pl.title('De-Trended High Roll Light Curve (with transits)');\n",
    "pl.xlabel('Time (days)');\n",
    "pl.ylabel('Flux (counts)');"
   ]
  },
  {
   "cell_type": "markdown",
   "metadata": {},
   "source": [
    "# Default Target Parameters"
   ]
  },
  {
   "cell_type": "markdown",
   "metadata": {},
   "source": [
    "Alternatively, a target can be initialized with variability and transits with default parameters by calling <pre><code>skope.Target(transit=True, variable=True)</code></pre>"
   ]
  },
  {
   "cell_type": "code",
   "execution_count": null,
   "metadata": {
    "collapsed": false
   },
   "outputs": [],
   "source": [
    "star = skope.Target(transit=True, variable=True)\n",
    "fpix_d, flux_d, ferr_d = star.GenerateLightCurve(12.)"
   ]
  },
  {
   "cell_type": "code",
   "execution_count": null,
   "metadata": {
    "collapsed": false
   },
   "outputs": [],
   "source": [
    "fig = pl.figure(figsize=(15,4));\n",
    "pl.plot(star.t,flux_d,'k.', alpha=.7);\n",
    "pl.title('Variable Light Curve (with transits)')\n",
    "pl.xlabel('Time (days)');\n",
    "pl.ylabel('Flux (counts)');"
   ]
  },
  {
   "cell_type": "code",
   "execution_count": null,
   "metadata": {
    "collapsed": false
   },
   "outputs": [],
   "source": [
    "detrend_d, rawflux_d = star.Detrend(fpix_d)"
   ]
  },
  {
   "cell_type": "code",
   "execution_count": null,
   "metadata": {
    "collapsed": false
   },
   "outputs": [],
   "source": [
    "fig = pl.figure(figsize=(15,4));\n",
    "pl.plot(star.t,rawflux_d,'r.',alpha=.3);\n",
    "pl.plot(star.t,detrend_d,'k.');\n",
    "pl.title('De-Trended Variable Light Curve (with transits)');\n",
    "pl.xlabel('Time (days)');\n",
    "pl.ylabel('Flux (counts)');"
   ]
  },
  {
   "cell_type": "markdown",
   "metadata": {},
   "source": [
    "# Detector"
   ]
  },
  {
   "cell_type": "markdown",
   "metadata": {},
   "source": [
    "The CCD detector (with given parameters, or default if no parameters given) can be displayed with the DisplayDetector( ) function."
   ]
  },
  {
   "cell_type": "code",
   "execution_count": null,
   "metadata": {
    "collapsed": false
   },
   "outputs": [],
   "source": [
    "fig = pl.figure(figsize=(5,5))\n",
    "det = star.DisplayDetector()"
   ]
  }
 ],
 "metadata": {
  "kernelspec": {
   "display_name": "Python 3",
   "language": "python",
   "name": "python3"
  },
  "language_info": {
   "codemirror_mode": {
    "name": "ipython",
    "version": 3
   },
   "file_extension": ".py",
   "mimetype": "text/x-python",
   "name": "python",
   "nbconvert_exporter": "python",
   "pygments_lexer": "ipython3",
   "version": "3.5.3"
  }
 },
 "nbformat": 4,
 "nbformat_minor": 0
}
